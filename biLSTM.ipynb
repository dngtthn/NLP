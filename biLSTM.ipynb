{
  "nbformat": 4,
  "nbformat_minor": 0,
  "metadata": {
    "colab": {
      "provenance": []
    },
    "kernelspec": {
      "name": "python3",
      "display_name": "Python 3"
    },
    "language_info": {
      "name": "python"
    }
  },
  "cells": [
    {
      "cell_type": "code",
      "source": [
        "from google.colab import drive\n",
        "drive.mount('/content/drive')"
      ],
      "metadata": {
        "colab": {
          "base_uri": "https://localhost:8080/"
        },
        "id": "xsNW6OTdeogD",
        "outputId": "23a85822-1b95-4fa7-cf94-19e650287e31"
      },
      "execution_count": null,
      "outputs": [
        {
          "output_type": "stream",
          "name": "stdout",
          "text": [
            "Mounted at /content/drive\n"
          ]
        }
      ]
    },
    {
      "cell_type": "code",
      "source": [
        "from sklearn.feature_extraction.text import TfidfVectorizer\n",
        "from sklearn.metrics import f1_score, precision_score, recall_score\n",
        "import numpy as np\n",
        "import tensorflow as tf\n",
        "import pandas as pd\n",
        "from sklearn.model_selection import KFold, train_test_split"
      ],
      "metadata": {
        "id": "NxSGisEqewdj"
      },
      "execution_count": null,
      "outputs": []
    },
    {
      "cell_type": "code",
      "source": [
        "df = pd.read_csv('/content/drive/MyDrive/NLP/Data/processed_data.csv')"
      ],
      "metadata": {
        "id": "dErgsBP9epdu"
      },
      "execution_count": null,
      "outputs": []
    },
    {
      "cell_type": "code",
      "source": [
        "# Dữ liệu\n",
        "X = df['sent_tokens']  # Các câu tokenized\n",
        "y = df['Label']  # Nhãn\n",
        "\n",
        "# Sử dụng TfidfVectorizer\n",
        "vectorizer = TfidfVectorizer()\n",
        "X_tfidf = vectorizer.fit_transform(X).toarray()"
      ],
      "metadata": {
        "id": "q6pE1WubwkM4"
      },
      "execution_count": null,
      "outputs": []
    },
    {
      "source": [
        "# Chia dữ liệu thành tập train\n",
        "X_train, X_test, y_train, y_test = train_test_split(\n",
        "    X_tfidf, y, test_size=0.05, random_state=42)\n",
        "\n",
        "# Hàm tạo mô hình biLSTM\n",
        "def create_bilstm_model_tfidf(input_length):\n",
        "    model = tf.keras.Sequential([\n",
        "        tf.keras.layers.InputLayer(input_shape=(input_length,)),  # Input phù hợp\n",
        "        tf.keras.layers.Dense(128, activation='relu'),  # Lớp Dense với 128 nút\n",
        "        tf.keras.layers.Dropout(0.5),  # Dropout để giảm overfitting\n",
        "        tf.keras.layers.Dense(1, activation='sigmoid')  # Output layer cho phân loại nhị phân\n",
        "    ])\n",
        "    model.compile(optimizer='adam', loss='binary_crossentropy', metrics=['accuracy'])\n",
        "    return model\n",
        "\n",
        "# Số splits của K-Fold\n",
        "kfold = KFold(n_splits=5, shuffle=True, random_state=42)\n",
        "\n",
        "fold_metrics = []\n",
        "input_length = X_train.shape[1]\n",
        "\n",
        "model = create_bilstm_model_tfidf(input_length=input_length)\n",
        "\n",
        "for fold, (train_idx, val_idx) in enumerate(kfold.split(X_train), start=1):\n",
        "    # Chia train và validation\n",
        "    X_train_fold, X_val_fold = X_train[train_idx], X_train[val_idx]\n",
        "    y_train_fold, y_val_fold = y_train.iloc[train_idx], y_train.iloc[val_idx]\n",
        "\n",
        "    # Huấn luyện mô hình trên tập train\n",
        "    model.fit(X_train_fold, y_train_fold, epochs=5, batch_size=32, verbose=0, validation_data=(X_val_fold, y_val_fold))\n",
        "\n",
        "    # Dự đoán trên tập validation\n",
        "    y_val_pred = (model.predict(X_val_fold) > 0.5).astype(int)\n",
        "\n",
        "    # Tính các chỉ số đánh giá\n",
        "    precision = precision_score(y_val_fold, y_val_pred, pos_label = 0)\n",
        "    recall = recall_score(y_val_fold, y_val_pred, pos_label = 0)\n",
        "    f1 = f1_score(y_val_fold, y_val_pred, pos_label = 0)\n",
        "\n",
        "    # Lưu các chỉ số\n",
        "    fold_metrics.append({'fold': fold, 'precision': precision, 'recall': recall, 'f1': f1})\n",
        "    print(f\"Fold {fold}: Precision={precision:.4f}, Recall={recall:.4f}, F1-Score={f1:.4f}\")\n",
        "\n",
        "# Tính trung bình các chỉ số\n",
        "avg_precision = np.mean([metrics['precision'] for metrics in fold_metrics])\n",
        "avg_recall = np.mean([metrics['recall'] for metrics in fold_metrics])\n",
        "avg_f1 = np.mean([metrics['f1'] for metrics in fold_metrics])\n",
        "\n",
        "print(f\"\\nChỉ số trung bình: Precision={avg_precision:.4f}, Recall={avg_recall:.4f}, F1-Score={avg_f1:.4f}\")"
      ],
      "cell_type": "code",
      "metadata": {
        "colab": {
          "base_uri": "https://localhost:8080/"
        },
        "id": "YOzjqcxzyLea",
        "outputId": "83e5f3cb-93ff-49ed-98d4-6c9fd0c6bbaf"
      },
      "execution_count": null,
      "outputs": [
        {
          "output_type": "stream",
          "name": "stderr",
          "text": [
            "/usr/local/lib/python3.10/dist-packages/keras/src/layers/core/input_layer.py:26: UserWarning: Argument `input_shape` is deprecated. Use `shape` instead.\n",
            "  warnings.warn(\n"
          ]
        },
        {
          "output_type": "stream",
          "name": "stdout",
          "text": [
            "\u001b[1m6/6\u001b[0m \u001b[32m━━━━━━━━━━━━━━━━━━━━\u001b[0m\u001b[37m\u001b[0m \u001b[1m0s\u001b[0m 9ms/step \n",
            "Fold 1: Precision=0.9153, Recall=0.6506, F1-Score=0.7606\n",
            "\u001b[1m6/6\u001b[0m \u001b[32m━━━━━━━━━━━━━━━━━━━━\u001b[0m\u001b[37m\u001b[0m \u001b[1m0s\u001b[0m 3ms/step \n",
            "Fold 2: Precision=0.9178, Recall=0.9710, F1-Score=0.9437\n",
            "\u001b[1m6/6\u001b[0m \u001b[32m━━━━━━━━━━━━━━━━━━━━\u001b[0m\u001b[37m\u001b[0m \u001b[1m0s\u001b[0m 3ms/step \n",
            "Fold 3: Precision=0.9865, Recall=0.9605, F1-Score=0.9733\n",
            "\u001b[1m6/6\u001b[0m \u001b[32m━━━━━━━━━━━━━━━━━━━━\u001b[0m\u001b[37m\u001b[0m \u001b[1m0s\u001b[0m 3ms/step \n",
            "Fold 4: Precision=1.0000, Recall=1.0000, F1-Score=1.0000\n",
            "\u001b[1m6/6\u001b[0m \u001b[32m━━━━━━━━━━━━━━━━━━━━\u001b[0m\u001b[37m\u001b[0m \u001b[1m0s\u001b[0m 4ms/step \n",
            "Fold 5: Precision=1.0000, Recall=0.9867, F1-Score=0.9933\n",
            "\n",
            "Chỉ số trung bình: Precision=0.9639, Recall=0.9138, F1-Score=0.9342\n"
          ]
        }
      ]
    },
    {
      "cell_type": "code",
      "source": [
        "# Dự đoán trên tập test\n",
        "y_test_pred = (model.predict(X_test) > 0.5).astype(int)\n",
        "\n",
        "# Tính chỉ số trên tập test\n",
        "test_precision = precision_score(y_test, y_test_pred)\n",
        "test_recall = recall_score(y_test, y_test_pred)\n",
        "test_f1 = f1_score(y_test, y_test_pred)\n",
        "\n",
        "print(f\"\\nKết quả trên tập test: Precision={test_precision:.4f}, Recall={test_recall:.4f}, F1-Score={test_f1:.4f}\")"
      ],
      "metadata": {
        "colab": {
          "base_uri": "https://localhost:8080/"
        },
        "id": "23VG8BLBxg7q",
        "outputId": "3771af1d-5720-4c63-90c5-0e4f47bc042b"
      },
      "execution_count": null,
      "outputs": [
        {
          "output_type": "stream",
          "name": "stdout",
          "text": [
            "\u001b[1m2/2\u001b[0m \u001b[32m━━━━━━━━━━━━━━━━━━━━\u001b[0m\u001b[37m\u001b[0m \u001b[1m0s\u001b[0m 5ms/step \n",
            "\n",
            "Kết quả trên tập test: Precision=0.8276, Recall=0.8889, F1-Score=0.8571\n"
          ]
        }
      ]
    },
    {
      "cell_type": "code",
      "source": [
        "from sklearn.metrics import confusion_matrix\n",
        "import seaborn as sns\n",
        "import matplotlib.pyplot as plt\n",
        "\n",
        "cm = confusion_matrix(y_test, y_test_pred)\n",
        "\n",
        "# Vẽ ma trận nhầm lẫn\n",
        "plt.figure(figsize=(8, 6))\n",
        "sns.heatmap(cm, annot=True, fmt=\"d\", cmap=\"Blues\",\n",
        "            xticklabels=['Predicted 0', 'Predicted 1'],\n",
        "            yticklabels=['Actual 0', 'Actual 1'])\n",
        "plt.title('Confusion Matrix')\n",
        "plt.xlabel('Predicted Label')\n",
        "plt.ylabel('True Label')\n",
        "plt.show()"
      ],
      "metadata": {
        "colab": {
          "base_uri": "https://localhost:8080/",
          "height": 564
        },
        "id": "VFeABje_y7WM",
        "outputId": "3188a2ee-8e15-4c02-deab-ef3f3de74a4f"
      },
      "execution_count": null,
      "outputs": [
        {
          "output_type": "display_data",
          "data": {
            "text/plain": [
              "<Figure size 800x600 with 2 Axes>"
            ],
            "image/png": "[encoded data removed]"
          },
          "metadata": {}
        }
      ]
    },
    {
      "cell_type": "code",
      "source": [
        "import pickle\n",
        "\n",
        "# Lưu model\n",
        "filename = '/content/drive/MyDrive/NLP/Models/biLSTM_model.sav'\n",
        "pickle.dump(model, open(filename, 'wb'))"
      ],
      "metadata": {
        "id": "NReo6VKgnyaG"
      },
      "execution_count": null,
      "outputs": []
    },
    {
      "cell_type": "code",
      "source": [
        "filename = '/content/drive/MyDrive/NLP/Models/tfidf_vectorizer.sav'\n",
        "pickle.dump(vectorizer, open(filename, 'wb'))"
      ],
      "metadata": {
        "id": "eyI-HhXiGiwf"
      },
      "execution_count": null,
      "outputs": []
    }
  ]
}